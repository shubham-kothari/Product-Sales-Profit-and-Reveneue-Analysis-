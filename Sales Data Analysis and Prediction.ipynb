{
 "cells": [
  {
   "cell_type": "markdown",
   "metadata": {},
   "source": [
    "## Importing the Libraries"
   ]
  },
  {
   "cell_type": "code",
   "execution_count": 1,
   "metadata": {},
   "outputs": [],
   "source": [
    "import pandas as pd\n",
    "from statsmodels.tools import tools\n",
    "import seaborn as sns\n",
    "from linearmodels import RandomEffects\n",
    "\n",
    "\n",
    "%matplotlib inline"
   ]
  },
  {
   "cell_type": "markdown",
   "metadata": {},
   "source": [
    "## Loading the Sales Data"
   ]
  },
  {
   "cell_type": "code",
   "execution_count": 2,
   "metadata": {},
   "outputs": [],
   "source": [
    "df = pd.read_csv('SalesData.csv')"
   ]
  },
  {
   "cell_type": "code",
   "execution_count": 3,
   "metadata": {},
   "outputs": [
    {
     "data": {
      "text/html": [
       "<div>\n",
       "<style scoped>\n",
       "    .dataframe tbody tr th:only-of-type {\n",
       "        vertical-align: middle;\n",
       "    }\n",
       "\n",
       "    .dataframe tbody tr th {\n",
       "        vertical-align: top;\n",
       "    }\n",
       "\n",
       "    .dataframe thead th {\n",
       "        text-align: right;\n",
       "    }\n",
       "</style>\n",
       "<table border=\"1\" class=\"dataframe\">\n",
       "  <thead>\n",
       "    <tr style=\"text-align: right;\">\n",
       "      <th></th>\n",
       "      <th>Unnamed: 0</th>\n",
       "      <th>TransNo</th>\n",
       "      <th>TransLine</th>\n",
       "      <th>CustomerNo</th>\n",
       "      <th>Category</th>\n",
       "      <th>SubCategory</th>\n",
       "      <th>TransactionDate</th>\n",
       "      <th>SellPrice</th>\n",
       "      <th>SellQty</th>\n",
       "      <th>COGS</th>\n",
       "      <th>Part</th>\n",
       "    </tr>\n",
       "  </thead>\n",
       "  <tbody>\n",
       "    <tr>\n",
       "      <td>0</td>\n",
       "      <td>0</td>\n",
       "      <td>4515542</td>\n",
       "      <td>4</td>\n",
       "      <td>80000</td>\n",
       "      <td>CAT3002</td>\n",
       "      <td>430</td>\n",
       "      <td>2015-01-02</td>\n",
       "      <td>25.01</td>\n",
       "      <td>0.0</td>\n",
       "      <td>19.899</td>\n",
       "      <td>P140PA780</td>\n",
       "    </tr>\n",
       "    <tr>\n",
       "      <td>1</td>\n",
       "      <td>1</td>\n",
       "      <td>4516499</td>\n",
       "      <td>3</td>\n",
       "      <td>80000</td>\n",
       "      <td>CAT3002</td>\n",
       "      <td>430</td>\n",
       "      <td>2015-01-05</td>\n",
       "      <td>25.01</td>\n",
       "      <td>1.0</td>\n",
       "      <td>20.295</td>\n",
       "      <td>P140PA780</td>\n",
       "    </tr>\n",
       "  </tbody>\n",
       "</table>\n",
       "</div>"
      ],
      "text/plain": [
       "   Unnamed: 0  TransNo  TransLine  CustomerNo Category  SubCategory  \\\n",
       "0           0  4515542          4       80000  CAT3002          430   \n",
       "1           1  4516499          3       80000  CAT3002          430   \n",
       "\n",
       "  TransactionDate  SellPrice  SellQty    COGS       Part  \n",
       "0      2015-01-02      25.01      0.0  19.899  P140PA780  \n",
       "1      2015-01-05      25.01      1.0  20.295  P140PA780  "
      ]
     },
     "execution_count": 3,
     "metadata": {},
     "output_type": "execute_result"
    }
   ],
   "source": [
    "df.head(2)"
   ]
  },
  {
   "cell_type": "markdown",
   "metadata": {},
   "source": [
    "- Deleteing the Unnamed Cloumn"
   ]
  },
  {
   "cell_type": "code",
   "execution_count": 4,
   "metadata": {},
   "outputs": [],
   "source": [
    "df.drop(df.columns[0],axis=1,inplace=True)"
   ]
  },
  {
   "cell_type": "code",
   "execution_count": 5,
   "metadata": {},
   "outputs": [
    {
     "data": {
      "text/plain": [
       "(2201620, 10)"
      ]
     },
     "execution_count": 5,
     "metadata": {},
     "output_type": "execute_result"
    }
   ],
   "source": [
    "df.shape"
   ]
  },
  {
   "cell_type": "code",
   "execution_count": 6,
   "metadata": {},
   "outputs": [
    {
     "name": "stdout",
     "output_type": "stream",
     "text": [
      "<class 'pandas.core.frame.DataFrame'>\n",
      "RangeIndex: 2201620 entries, 0 to 2201619\n",
      "Data columns (total 10 columns):\n",
      "TransNo            int64\n",
      "TransLine          int64\n",
      "CustomerNo         int64\n",
      "Category           object\n",
      "SubCategory        int64\n",
      "TransactionDate    object\n",
      "SellPrice          float64\n",
      "SellQty            float64\n",
      "COGS               float64\n",
      "Part               object\n",
      "dtypes: float64(3), int64(4), object(3)\n",
      "memory usage: 168.0+ MB\n"
     ]
    }
   ],
   "source": [
    "df.info()"
   ]
  },
  {
   "cell_type": "markdown",
   "metadata": {},
   "source": [
    "### Calculating the Number of transactions where the Selling Quantity of Product is Negative"
   ]
  },
  {
   "cell_type": "code",
   "execution_count": 7,
   "metadata": {},
   "outputs": [
    {
     "data": {
      "text/plain": [
       "33843"
      ]
     },
     "execution_count": 7,
     "metadata": {},
     "output_type": "execute_result"
    }
   ],
   "source": [
    "df.loc[df['SellQty']<0].count()['TransNo']"
   ]
  },
  {
   "cell_type": "markdown",
   "metadata": {},
   "source": [
    "### Calculating the Number of transactions where the Selling Price of Product is Negative"
   ]
  },
  {
   "cell_type": "code",
   "execution_count": 8,
   "metadata": {},
   "outputs": [
    {
     "data": {
      "text/plain": [
       "58"
      ]
     },
     "execution_count": 8,
     "metadata": {},
     "output_type": "execute_result"
    }
   ],
   "source": [
    "df.loc[df['SellPrice']<0].count()['TransNo']"
   ]
  },
  {
   "cell_type": "markdown",
   "metadata": {},
   "source": [
    "### Calculating the Number of transactions where the Cost of Good Sale (COGS) is Negative"
   ]
  },
  {
   "cell_type": "code",
   "execution_count": 9,
   "metadata": {},
   "outputs": [
    {
     "data": {
      "text/plain": [
       "3"
      ]
     },
     "execution_count": 9,
     "metadata": {},
     "output_type": "execute_result"
    }
   ],
   "source": [
    "df.loc[df['COGS']<0].count()['TransNo']"
   ]
  },
  {
   "cell_type": "markdown",
   "metadata": {},
   "source": [
    "- So, there was 33843, 58 and 3 negative values for Selling Quantity, Selling Price and Cost of Good Sale (COGS) of product.\n"
   ]
  },
  {
   "cell_type": "markdown",
   "metadata": {},
   "source": [
    "### Filtering out the Negative Values"
   ]
  },
  {
   "cell_type": "code",
   "execution_count": 10,
   "metadata": {},
   "outputs": [],
   "source": [
    "df = df.loc[df['SellQty']>0]\n",
    "df = df.loc[df['SellPrice']>0]\n",
    "df = df.loc[df['COGS']>0]"
   ]
  },
  {
   "cell_type": "markdown",
   "metadata": {},
   "source": [
    "### Analysing the TransNo column"
   ]
  },
  {
   "cell_type": "code",
   "execution_count": 11,
   "metadata": {},
   "outputs": [
    {
     "data": {
      "text/plain": [
       "4701733    518\n",
       "4616764    501\n",
       "4946650    409\n",
       "5149333    381\n",
       "4859493    374\n",
       "          ... \n",
       "4736836      1\n",
       "4958008      1\n",
       "4978482      1\n",
       "4929322      1\n",
       "4520095      1\n",
       "Name: TransNo, Length: 316013, dtype: int64"
      ]
     },
     "execution_count": 11,
     "metadata": {},
     "output_type": "execute_result"
    }
   ],
   "source": [
    "df['TransNo'].value_counts()"
   ]
  },
  {
   "cell_type": "markdown",
   "metadata": {},
   "source": [
    "- The TransNo column has more the 3 lac categories, So it is better if we drop the TransNo Column"
   ]
  },
  {
   "cell_type": "markdown",
   "metadata": {},
   "source": [
    "### Analysing the Part column"
   ]
  },
  {
   "cell_type": "code",
   "execution_count": 12,
   "metadata": {},
   "outputs": [
    {
     "data": {
      "text/plain": [
       "P562PA35589    11783\n",
       "P9PA32318      10891\n",
       "P2330PA9482    10869\n",
       "P380PA11986     9275\n",
       "P380PA11977     9220\n",
       "               ...  \n",
       "P604PA20932        1\n",
       "P555PA27321        1\n",
       "P470PA7316         1\n",
       "P20PA11571         1\n",
       "P710PA27707        1\n",
       "Name: Part, Length: 40776, dtype: int64"
      ]
     },
     "execution_count": 12,
     "metadata": {},
     "output_type": "execute_result"
    }
   ],
   "source": [
    "df['Part'].value_counts()"
   ]
  },
  {
   "cell_type": "markdown",
   "metadata": {},
   "source": [
    "- The part column has more the 40 thousand categories, So it is better if we drop the Part Column"
   ]
  },
  {
   "cell_type": "markdown",
   "metadata": {},
   "source": [
    "### Dropping TransNo and Part Column"
   ]
  },
  {
   "cell_type": "code",
   "execution_count": 13,
   "metadata": {},
   "outputs": [],
   "source": [
    "df.drop(['Part','TransNo'],axis=1,inplace=True)"
   ]
  },
  {
   "cell_type": "markdown",
   "metadata": {},
   "source": [
    "### Analysing the Category and SubCategory column"
   ]
  },
  {
   "cell_type": "code",
   "execution_count": 14,
   "metadata": {},
   "outputs": [
    {
     "data": {
      "text/plain": [
       "CAT2002    503618\n",
       "CAT3001    402262\n",
       "CAT2003    236548\n",
       "CAT3002    177323\n",
       "CAT3004    159300\n",
       "CAT4002    153185\n",
       "CAT4001    130465\n",
       "CAT4003     90839\n",
       "CAT2001     52841\n",
       "CAT3003     46318\n",
       "CAT4004     26062\n",
       "CAT3005      8996\n",
       "CAT1005      1601\n",
       "CAT0            1\n",
       "Name: Category, dtype: int64"
      ]
     },
     "execution_count": 14,
     "metadata": {},
     "output_type": "execute_result"
    }
   ],
   "source": [
    "df['Category'].value_counts()"
   ]
  },
  {
   "cell_type": "markdown",
   "metadata": {},
   "source": [
    "- There is 14 different Product categories\n",
    "- CAT0 has only one transaction, So I think it's better to filter out that single row"
   ]
  },
  {
   "cell_type": "code",
   "execution_count": 15,
   "metadata": {},
   "outputs": [],
   "source": [
    "df = df[df['Category']!='CAT0']"
   ]
  },
  {
   "cell_type": "code",
   "execution_count": 16,
   "metadata": {},
   "outputs": [
    {
     "name": "stdout",
     "output_type": "stream",
     "text": [
      "Category  SubCategory\n",
      "CAT1005   606            328.064216\n",
      "CAT2001   431             26.889032\n",
      "          438             29.512755\n",
      "          445              7.345922\n",
      "          489             19.635091\n",
      "                            ...    \n",
      "CAT4004   671             91.528703\n",
      "          676             50.614438\n",
      "          682             66.751983\n",
      "          702             14.253125\n",
      "          724             14.780000\n",
      "Name: SellPrice, Length: 292, dtype: float64\n"
     ]
    }
   ],
   "source": [
    "print(df.groupby(['Category','SubCategory'])['SellPrice'].mean())"
   ]
  },
  {
   "cell_type": "code",
   "execution_count": 17,
   "metadata": {},
   "outputs": [
    {
     "data": {
      "text/plain": [
       "<matplotlib.axes._subplots.AxesSubplot at 0x2178be1c860>"
      ]
     },
     "execution_count": 17,
     "metadata": {},
     "output_type": "execute_result"
    },
    {
     "data": {
      "image/png": "[encoded data removed]",
      "text/plain": [
       "<Figure size 432x288 with 2 Axes>"
      ]
     },
     "metadata": {
      "needs_background": "light"
     },
     "output_type": "display_data"
    }
   ],
   "source": [
    "sns.heatmap(df.corr())"
   ]
  },
  {
   "cell_type": "markdown",
   "metadata": {},
   "source": [
    "- This is the heatmap of the correlation between the column of the sales data "
   ]
  },
  {
   "cell_type": "code",
   "execution_count": 18,
   "metadata": {},
   "outputs": [],
   "source": [
    "df['revenue'] = df['COGS']*df['SellQty']"
   ]
  },
  {
   "cell_type": "code",
   "execution_count": null,
   "metadata": {},
   "outputs": [],
   "source": []
  },
  {
   "cell_type": "markdown",
   "metadata": {},
   "source": [
    "## Saving the Cleaned Data"
   ]
  },
  {
   "cell_type": "code",
   "execution_count": 19,
   "metadata": {},
   "outputs": [],
   "source": [
    "df.to_csv('saleData_cleaned.csv',index=False)"
   ]
  },
  {
   "cell_type": "markdown",
   "metadata": {},
   "source": [
    "### Loading the Cleaned Data"
   ]
  },
  {
   "cell_type": "code",
   "execution_count": 20,
   "metadata": {},
   "outputs": [],
   "source": [
    "data = pd.read_csv('saleData_cleaned.csv')"
   ]
  },
  {
   "cell_type": "markdown",
   "metadata": {},
   "source": [
    "### Merging the Category and SubCategory to make a unique Category"
   ]
  },
  {
   "cell_type": "code",
   "execution_count": 21,
   "metadata": {},
   "outputs": [],
   "source": [
    "data['Categories'] = data['Category'].astype(str) + data['SubCategory'].astype(str)\n",
    "data['Categories'] = pd.Categorical(data['Categories'])"
   ]
  },
  {
   "cell_type": "markdown",
   "metadata": {},
   "source": [
    "### Slicing the Year from the TranscationDate Column"
   ]
  },
  {
   "cell_type": "code",
   "execution_count": 22,
   "metadata": {},
   "outputs": [],
   "source": [
    "data['TransactionDate'] = data['TransactionDate'].apply(lambda date: int(date[:-6]))"
   ]
  },
  {
   "cell_type": "markdown",
   "metadata": {},
   "source": [
    "### Preparing data for the Regression  Model"
   ]
  },
  {
   "cell_type": "code",
   "execution_count": 23,
   "metadata": {},
   "outputs": [],
   "source": [
    "date = pd.Categorical(data['TransactionDate'])\n",
    "data = data.set_index(['Categories','TransactionDate'])\n",
    "data['TransactionDate'] = date"
   ]
  },
  {
   "cell_type": "code",
   "execution_count": 24,
   "metadata": {},
   "outputs": [
    {
     "name": "stderr",
     "output_type": "stream",
     "text": [
      "C:\\ProgramData\\Anaconda3\\lib\\site-packages\\numpy\\core\\fromnumeric.py:2389: FutureWarning: Method .ptp is deprecated and will be removed in a future version. Use numpy.ptp instead.\n",
      "  return ptp(axis=axis, out=out, **kwargs)\n"
     ]
    },
    {
     "name": "stdout",
     "output_type": "stream",
     "text": [
      "                        RandomEffects Estimation Summary                        \n",
      "================================================================================\n",
      "Dep. Variable:                   COGS   R-squared:                        0.8755\n",
      "Estimator:              RandomEffects   R-squared (Between):              0.9711\n",
      "No. Observations:             1989358   R-squared (Within):               0.8751\n",
      "Date:                Fri, Dec 06 2019   R-squared (Overall):              0.9002\n",
      "Time:                        13:51:40   Log-likelihood                -8.171e+06\n",
      "Cov. Estimator:            Unadjusted                                           \n",
      "                                        F-statistic:                   1.399e+07\n",
      "Entities:                         292   P-value                           0.0000\n",
      "Avg Obs:                       6812.9   Distribution:               F(1,1989356)\n",
      "Min Obs:                       1.0000                                           \n",
      "Max Obs:                    1.815e+05   F-statistic (robust):          1.398e+07\n",
      "                                        P-value                           0.0000\n",
      "Time periods:                       3   Distribution:               F(1,1989356)\n",
      "Avg Obs:                    6.631e+05                                           \n",
      "Min Obs:                    5.895e+05                                           \n",
      "Max Obs:                    7.263e+05                                           \n",
      "                                                                                \n",
      "                             Parameter Estimates                              \n",
      "==============================================================================\n",
      "            Parameter  Std. Err.     T-stat    P-value    Lower CI    Upper CI\n",
      "------------------------------------------------------------------------------\n",
      "const          8.0371     0.8752     9.1827     0.0000      6.3217      9.7526\n",
      "SellPrice      0.6894     0.0002     3738.7     0.0000      0.6890      0.6897\n",
      "==============================================================================\n"
     ]
    }
   ],
   "source": [
    "exog_vars = ['SellPrice']\n",
    "exog = tools.add_constant(data[exog_vars])\n",
    "mod = RandomEffects(data['COGS'], exog)\n",
    "re_res = mod.fit()\n",
    "print(re_res)"
   ]
  },
  {
   "cell_type": "markdown",
   "metadata": {},
   "source": [
    "### The overall R-Squared is 0.90.\n",
    "### Sellprice is signification since it's P-value is 0.00"
   ]
  },
  {
   "cell_type": "code",
   "execution_count": null,
   "metadata": {},
   "outputs": [],
   "source": []
  }
 ],
 "metadata": {
  "kernelspec": {
   "display_name": "Python [conda env:root] *",
   "language": "python",
   "name": "conda-root-py"
  },
  "language_info": {
   "codemirror_mode": {
    "name": "ipython",
    "version": 3
   },
   "file_extension": ".py",
   "mimetype": "text/x-python",
   "name": "python",
   "nbconvert_exporter": "python",
   "pygments_lexer": "ipython3",
   "version": "3.6.9"
  }
 },
 "nbformat": 4,
 "nbformat_minor": 2
}
